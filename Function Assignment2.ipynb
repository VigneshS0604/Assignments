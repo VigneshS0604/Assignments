{
 "cells": [
  {
   "cell_type": "code",
   "execution_count": 5,
   "metadata": {},
   "outputs": [],
   "source": [
    "def triangle():\n",
    "    Height=float(input(\"Height:\"))\n",
    "    Breadth=float(input(\"Breadth\"))\n",
    "    areaformula=(Height*Breadth)/2\n",
    "    print(\"Area Formula: (Height*Breadth)/2\")\n",
    "    print(\"Area of Triangle: \",areaformula)\n",
    "    Height1=float(input(\"Height1:\"))\n",
    "    Height2=float(input(\"Height2:\"))\n",
    "    Breadth1=float(input(\"Breadth: \"))\n",
    "    perimeter=Height1+Height2+Breadth1\n",
    "    print(\"perimeter Formula: Height1+Height2+Breath\")\n",
    "    print(\"Perimeter of Triangle: \",perimeter)"
   ]
  },
  {
   "cell_type": "code",
   "execution_count": 6,
   "metadata": {},
   "outputs": [
    {
     "name": "stdout",
     "output_type": "stream",
     "text": [
      "Height:3\n",
      "Breadth4\n",
      "Area Formula: (Height*Breadth)/2\n",
      "Area of Triangle:  6.0\n",
      "Height1:3\n",
      "Height2:4\n",
      "Breadth: 45\n",
      "perimeter Formula: Height1+Height2+Breath\n",
      "Perimeter of Triangle:  52.0\n"
     ]
    }
   ],
   "source": [
    "triangle()"
   ]
  },
  {
   "cell_type": "code",
   "execution_count": null,
   "metadata": {},
   "outputs": [],
   "source": []
  }
 ],
 "metadata": {
  "kernelspec": {
   "display_name": "Python 3",
   "language": "python",
   "name": "python3"
  },
  "language_info": {
   "codemirror_mode": {
    "name": "ipython",
    "version": 3
   },
   "file_extension": ".py",
   "mimetype": "text/x-python",
   "name": "python",
   "nbconvert_exporter": "python",
   "pygments_lexer": "ipython3",
   "version": "3.7.4"
  }
 },
 "nbformat": 4,
 "nbformat_minor": 2
}
